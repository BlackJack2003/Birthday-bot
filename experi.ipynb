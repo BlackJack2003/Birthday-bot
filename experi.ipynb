{
 "cells": [
  {
   "cell_type": "code",
   "execution_count": null,
   "metadata": {},
   "outputs": [],
   "source": [
    "from datetime import date\n",
    "from importlib.resources import path\n",
    "from selenium import webdriver\n",
    "from selenium.webdriver.common.keys import Keys\n",
    "from selenium.webdriver.common.by import By\n",
    "from selenium.common import exceptions\n",
    "from selenium.webdriver.chrome.options import Options\n",
    "from selenium.webdriver.support.ui import WebDriverWait\n",
    "from selenium.webdriver.support import expected_conditions as EC\n",
    "import time\n",
    "import PIL\n",
    "from PIL import Image\n",
    "import difflib\n",
    "import matplotlib as plt\n",
    "import pandas as pd\n",
    "import scrape as sc\n",
    "from bs4 import BeautifulSoup\n",
    "import datetime\n",
    "import os\n",
    "import pickle\n",
    "import sys\n",
    "import csv\n",
    "import random\n",
    "import main as mn\n",
    "import wget\n",
    "import matplotlib.pyplot as plt\n",
    "import matplotlib.image as img\n",
    "import filecmp"
   ]
  },
  {
   "cell_type": "code",
   "execution_count": 1,
   "metadata": {},
   "outputs": [],
   "source": [
    "import csv\n",
    "with open('varf.txt') as fi:\n",
    "    za = fi.readlines()\n",
    "    path = za[0]"
   ]
  },
  {
   "cell_type": "code",
   "execution_count": null,
   "metadata": {},
   "outputs": [],
   "source": [
    "global path\n",
    "with open(path+'configs/dat.csv','r') as csvfi:\n",
    "    k = csvfi.readlines()\n",
    "    for m in range(len(k)):\n",
    "        z = k[m].split(',')[2]\n",
    "        z = z.replace('\\n','')\n",
    "        print(z)"
   ]
  },
  {
   "cell_type": "code",
   "execution_count": null,
   "metadata": {},
   "outputs": [],
   "source": [
    "driver = mn.get_instagram_browser(hid=False)"
   ]
  },
  {
   "cell_type": "code",
   "execution_count": null,
   "metadata": {},
   "outputs": [],
   "source": [
    "driver.quit()"
   ]
  },
  {
   "cell_type": "code",
   "execution_count": null,
   "metadata": {},
   "outputs": [],
   "source": [
    "driver.get('https://www.instagram.com/harsh_s111/?hl=en')"
   ]
  },
  {
   "cell_type": "code",
   "execution_count": null,
   "metadata": {},
   "outputs": [],
   "source": [
    "temp_path = path+'data/temp'\n",
    "try:\n",
    "    suggetion=driver.find_element(by=By.XPATH,value='/html/body/div[1]/section/main/div/div[3]/article/div[2]/div/div[2]')\n",
    "    driver.execute_script(\"\"\"\n",
    "    var shit = document.evaluate('/html/body/div[1]/section/main/div/div[3]/article/div[2]/div/div[2]', document, null, XPathResult.FIRST_ORDERED_NODE_TYPE, null).singleNodeValue;\n",
    "    shit.remove();\n",
    "    \"\"\")\n",
    "except:\n",
    "    pass\n",
    "try:\n",
    "    mama = driver.find_element(by=By.XPATH,value='/html/body/div[1]/section/main/div/div[1]/div/div')\n",
    "    driver.execute_script(\"var crap = document.evaluate('/html/body/div[1]/section/main/div/div[1]/div/div', document, null, XPathResult.FIRST_ORDERED_NODE_TYPE, null).singleNodeValue;crap.remove();\")\n",
    "except:\n",
    "    pass    \n",
    "soup = BeautifulSoup(driver.page_source,'html.parser')\n",
    "urls = []\n",
    "for img in soup.find_all(\"img\"):\n",
    "    img_url = img.attrs.get(\"src\")\n",
    "    urls.append(img_url)\n",
    "    if not img_url:\n",
    "        # if img does not contain src attribute, just skip\n",
    "        continue\n"
   ]
  },
  {
   "cell_type": "code",
   "execution_count": null,
   "metadata": {},
   "outputs": [],
   "source": [
    "print(urls[1])\n",
    "print(temp_path+'/lat')\n",
    "kaka = wget.download(urls[1],out=temp_path+'/lat')\n",
    "print('\\n'+kaka)"
   ]
  },
  {
   "cell_type": "code",
   "execution_count": null,
   "metadata": {},
   "outputs": [],
   "source": [
    "for root,dirs,files in os.walk(path+'data/imgsc/imgs/3/latest'):\n",
    "    fi = files[0]\n",
    "    print(fi)\n",
    "    pathf = root+'/'+fi\n",
    "print(pathf)\n",
    "iss = plt.imread(pathf)\n",
    "plt.imshow(iss)\n",
    "#print(temp_path+'lat')\n",
    "isy = plt.imread(temp_path+'lat')\n",
    "print(\"-------x-------\"+'\\n')\n",
    "#plt.imshow(isy)\n",
    "comp = filecmp.cmp(temp_path+'lat',pathf)\n",
    "print(comp)"
   ]
  },
  {
   "cell_type": "code",
   "execution_count": null,
   "metadata": {},
   "outputs": [],
   "source": [
    "ass = \"Hellao\"\n",
    "print(\"Hello %s\"%ass)"
   ]
  },
  {
   "cell_type": "code",
   "execution_count": 13,
   "metadata": {},
   "outputs": [
    {
     "name": "stdout",
     "output_type": "stream",
     "text": [
      "dict_keys(['Hello', 'ass', 'kill'])\n",
      "World!\n",
      "World!\n",
      "{'Hello': 'World!', 'ass': 'hole', 'kill': 'You'}\n"
     ]
    }
   ],
   "source": [
    "sma = {\"Hello\":\"World!\",\"ass\":\"hole\"}\n",
    "sma[\"kill\"]=\"You\"\n",
    "print(sma.keys())\n",
    "print(sma[\"Hello\"])\n",
    "print(sma.get(\"Hello\"))\n",
    "print(sma)"
   ]
  },
  {
   "cell_type": "code",
   "execution_count": null,
   "metadata": {},
   "outputs": [],
   "source": [
    "print(sma.get(\"Hello\"))\n",
    "sma."
   ]
  },
  {
   "cell_type": "code",
   "execution_count": 5,
   "metadata": {},
   "outputs": [],
   "source": [
    "import csv\n",
    "with open('varf.txt') as fi:\n",
    "    za = fi.readlines()\n",
    "    path = za[0]\n",
    "id_no = {}\n",
    "with open(path+'configs/dat.csv','r') as csvfi:\n",
    "    lines = csvfi.readlines()\n",
    "    for m in range(len(lines)):\n",
    "        line = lines[m]\n",
    "        li = line.split(',')\n",
    "        id_no[li[2]] = m\n",
    "\n",
    "def get_id(a):\n",
    "    vas = list(id_no.values())\n",
    "    ke = list(id_no.keys())\n",
    "    for m in ke:\n",
    "        if id_no.get(m)==a:\n",
    "            return m\n",
    "    print(\"No not present in list\")\n",
    "    quit()\n",
    "\n",
    "def get_num(id):\n",
    "    num = id_no.get(id)\n",
    "    if num == None:\n",
    "        print(\"ID is not present in the list\")\n",
    "        quit()\n",
    "    else:\n",
    "        return num \n"
   ]
  },
  {
   "cell_type": "code",
   "execution_count": 21,
   "metadata": {},
   "outputs": [
    {
     "name": "stdout",
     "output_type": "stream",
     "text": [
      "@bigerbomb2020\n",
      "\n"
     ]
    }
   ],
   "source": [
    "print(get_id(0))"
   ]
  },
  {
   "cell_type": "code",
   "execution_count": 7,
   "metadata": {},
   "outputs": [
    {
     "name": "stdout",
     "output_type": "stream",
     "text": [
      "/home/boom/Desktop/bdayw/Code/python\n"
     ]
    }
   ],
   "source": [
    "import os\n",
    "k= os.getcwd()\n",
    "print(k)"
   ]
  },
  {
   "cell_type": "code",
   "execution_count": 15,
   "metadata": {},
   "outputs": [
    {
     "name": "stdout",
     "output_type": "stream",
     "text": [
      "PublicKey(214923216705727063710373779981902668523, 65537)\n",
      "PrivateKey(214923216705727063710373779981902668523, 65537, 28016067874895498778702677889018078953, 211777584968913201461, 1014853468733603743)\n"
     ]
    }
   ],
   "source": [
    "import rsa\n",
    "pub,pri = rsa.key.newkeys(128)\n",
    "print(pub)\n",
    "print(pri)"
   ]
  },
  {
   "cell_type": "code",
   "execution_count": 13,
   "metadata": {},
   "outputs": [],
   "source": [
    "def decrypt(k):\n",
    "    l = []\n",
    "    pri = input(\"Please Enter your private key:\")\n",
    "    for i in range(len(k)):\n",
    "        byt = bytes(k[i],'utf-8')\n",
    "        l[i] = rsa.decrypt(byt,priv_key=pri).decode('utf-8')\n",
    "    return \n",
    "        \n",
    "def logina(a):\n",
    "    global path\n",
    "    if a == 1:\n",
    "        mama = open(path+'configs/passa.txt','r')\n",
    "        sama = mama.readlines()\n",
    "        acc,passa = sama[0],sama[1]\n",
    "        l =decrypt([acc,passa])\n",
    "        return l[0],l[1]\n",
    "    elif a ==2:\n",
    "        mama = open(path+'configs/passa.txt','r')\n",
    "        sama = mama.readlines()\n",
    "        return sama[2],sama[3]\n"
   ]
  },
  {
   "cell_type": "code",
   "execution_count": 14,
   "metadata": {},
   "outputs": [
    {
     "ename": "KeyboardInterrupt",
     "evalue": "Interrupted by user",
     "output_type": "error",
     "traceback": [
      "\u001b[0;31m---------------------------------------------------------------------------\u001b[0m",
      "\u001b[0;31mKeyboardInterrupt\u001b[0m                         Traceback (most recent call last)",
      "Input \u001b[0;32mIn [14]\u001b[0m, in \u001b[0;36m<cell line: 1>\u001b[0;34m()\u001b[0m\n\u001b[0;32m----> 1\u001b[0m \u001b[38;5;28mprint\u001b[39m(\u001b[43mlogina\u001b[49m\u001b[43m(\u001b[49m\u001b[38;5;241;43m1\u001b[39;49m\u001b[43m)\u001b[49m)\n",
      "Input \u001b[0;32mIn [13]\u001b[0m, in \u001b[0;36mlogina\u001b[0;34m(a)\u001b[0m\n\u001b[1;32m     13\u001b[0m     sama \u001b[38;5;241m=\u001b[39m mama\u001b[38;5;241m.\u001b[39mreadlines()\n\u001b[1;32m     14\u001b[0m     acc,passa \u001b[38;5;241m=\u001b[39m sama[\u001b[38;5;241m0\u001b[39m],sama[\u001b[38;5;241m1\u001b[39m]\n\u001b[0;32m---> 15\u001b[0m     l \u001b[38;5;241m=\u001b[39m\u001b[43mdecrypt\u001b[49m\u001b[43m(\u001b[49m\u001b[43m[\u001b[49m\u001b[43macc\u001b[49m\u001b[43m,\u001b[49m\u001b[43mpassa\u001b[49m\u001b[43m]\u001b[49m\u001b[43m)\u001b[49m\n\u001b[1;32m     16\u001b[0m     \u001b[38;5;28;01mreturn\u001b[39;00m l[\u001b[38;5;241m0\u001b[39m],l[\u001b[38;5;241m1\u001b[39m]\n\u001b[1;32m     17\u001b[0m \u001b[38;5;28;01melif\u001b[39;00m a \u001b[38;5;241m==\u001b[39m\u001b[38;5;241m2\u001b[39m:\n",
      "Input \u001b[0;32mIn [13]\u001b[0m, in \u001b[0;36mdecrypt\u001b[0;34m(k)\u001b[0m\n\u001b[1;32m      1\u001b[0m \u001b[38;5;28;01mdef\u001b[39;00m \u001b[38;5;21mdecrypt\u001b[39m(k):\n\u001b[1;32m      2\u001b[0m     l \u001b[38;5;241m=\u001b[39m []\n\u001b[0;32m----> 3\u001b[0m     pri \u001b[38;5;241m=\u001b[39m \u001b[38;5;28;43minput\u001b[39;49m\u001b[43m(\u001b[49m\u001b[38;5;124;43m\"\u001b[39;49m\u001b[38;5;124;43mPlease Enter your private key:\u001b[39;49m\u001b[38;5;124;43m\"\u001b[39;49m\u001b[43m)\u001b[49m\n\u001b[1;32m      4\u001b[0m     \u001b[38;5;28;01mfor\u001b[39;00m i \u001b[38;5;129;01min\u001b[39;00m \u001b[38;5;28mrange\u001b[39m(\u001b[38;5;28mlen\u001b[39m(k)):\n\u001b[1;32m      5\u001b[0m         byt \u001b[38;5;241m=\u001b[39m \u001b[38;5;28mbytes\u001b[39m(k[i],\u001b[38;5;124m'\u001b[39m\u001b[38;5;124mutf-8\u001b[39m\u001b[38;5;124m'\u001b[39m)\n",
      "File \u001b[0;32m~/.local/lib/python3.10/site-packages/ipykernel/kernelbase.py:1161\u001b[0m, in \u001b[0;36mKernel.raw_input\u001b[0;34m(self, prompt)\u001b[0m\n\u001b[1;32m   1157\u001b[0m \u001b[38;5;28;01mif\u001b[39;00m \u001b[38;5;129;01mnot\u001b[39;00m \u001b[38;5;28mself\u001b[39m\u001b[38;5;241m.\u001b[39m_allow_stdin:\n\u001b[1;32m   1158\u001b[0m     \u001b[38;5;28;01mraise\u001b[39;00m StdinNotImplementedError(\n\u001b[1;32m   1159\u001b[0m         \u001b[38;5;124m\"\u001b[39m\u001b[38;5;124mraw_input was called, but this frontend does not support input requests.\u001b[39m\u001b[38;5;124m\"\u001b[39m\n\u001b[1;32m   1160\u001b[0m     )\n\u001b[0;32m-> 1161\u001b[0m \u001b[38;5;28;01mreturn\u001b[39;00m \u001b[38;5;28;43mself\u001b[39;49m\u001b[38;5;241;43m.\u001b[39;49m\u001b[43m_input_request\u001b[49m\u001b[43m(\u001b[49m\n\u001b[1;32m   1162\u001b[0m \u001b[43m    \u001b[49m\u001b[38;5;28;43mstr\u001b[39;49m\u001b[43m(\u001b[49m\u001b[43mprompt\u001b[49m\u001b[43m)\u001b[49m\u001b[43m,\u001b[49m\n\u001b[1;32m   1163\u001b[0m \u001b[43m    \u001b[49m\u001b[38;5;28;43mself\u001b[39;49m\u001b[38;5;241;43m.\u001b[39;49m\u001b[43m_parent_ident\u001b[49m\u001b[43m[\u001b[49m\u001b[38;5;124;43m\"\u001b[39;49m\u001b[38;5;124;43mshell\u001b[39;49m\u001b[38;5;124;43m\"\u001b[39;49m\u001b[43m]\u001b[49m\u001b[43m,\u001b[49m\n\u001b[1;32m   1164\u001b[0m \u001b[43m    \u001b[49m\u001b[38;5;28;43mself\u001b[39;49m\u001b[38;5;241;43m.\u001b[39;49m\u001b[43mget_parent\u001b[49m\u001b[43m(\u001b[49m\u001b[38;5;124;43m\"\u001b[39;49m\u001b[38;5;124;43mshell\u001b[39;49m\u001b[38;5;124;43m\"\u001b[39;49m\u001b[43m)\u001b[49m\u001b[43m,\u001b[49m\n\u001b[1;32m   1165\u001b[0m \u001b[43m    \u001b[49m\u001b[43mpassword\u001b[49m\u001b[38;5;241;43m=\u001b[39;49m\u001b[38;5;28;43;01mFalse\u001b[39;49;00m\u001b[43m,\u001b[49m\n\u001b[1;32m   1166\u001b[0m \u001b[43m\u001b[49m\u001b[43m)\u001b[49m\n",
      "File \u001b[0;32m~/.local/lib/python3.10/site-packages/ipykernel/kernelbase.py:1205\u001b[0m, in \u001b[0;36mKernel._input_request\u001b[0;34m(self, prompt, ident, parent, password)\u001b[0m\n\u001b[1;32m   1202\u001b[0m             \u001b[38;5;28;01mbreak\u001b[39;00m\n\u001b[1;32m   1203\u001b[0m \u001b[38;5;28;01mexcept\u001b[39;00m \u001b[38;5;167;01mKeyboardInterrupt\u001b[39;00m:\n\u001b[1;32m   1204\u001b[0m     \u001b[38;5;66;03m# re-raise KeyboardInterrupt, to truncate traceback\u001b[39;00m\n\u001b[0;32m-> 1205\u001b[0m     \u001b[38;5;28;01mraise\u001b[39;00m \u001b[38;5;167;01mKeyboardInterrupt\u001b[39;00m(\u001b[38;5;124m\"\u001b[39m\u001b[38;5;124mInterrupted by user\u001b[39m\u001b[38;5;124m\"\u001b[39m) \u001b[38;5;28;01mfrom\u001b[39;00m \u001b[38;5;28mNone\u001b[39m\n\u001b[1;32m   1206\u001b[0m \u001b[38;5;28;01mexcept\u001b[39;00m \u001b[38;5;167;01mException\u001b[39;00m:\n\u001b[1;32m   1207\u001b[0m     \u001b[38;5;28mself\u001b[39m\u001b[38;5;241m.\u001b[39mlog\u001b[38;5;241m.\u001b[39mwarning(\u001b[38;5;124m\"\u001b[39m\u001b[38;5;124mInvalid Message:\u001b[39m\u001b[38;5;124m\"\u001b[39m, exc_info\u001b[38;5;241m=\u001b[39m\u001b[38;5;28;01mTrue\u001b[39;00m)\n",
      "\u001b[0;31mKeyboardInterrupt\u001b[0m: Interrupted by user"
     ]
    },
    {
     "name": "stdin",
     "output_type": "stream",
     "text": [
      "Please Enter your private key: hello\n"
     ]
    }
   ],
   "source": [
    "print(logina(1)"
   ]
  },
  {
   "cell_type": "code",
   "execution_count": 17,
   "metadata": {},
   "outputs": [
    {
     "ename": "AttributeError",
     "evalue": "module 'rsa' has no attribute 'get'",
     "output_type": "error",
     "traceback": [
      "\u001b[0;31m---------------------------------------------------------------------------\u001b[0m",
      "\u001b[0;31mAttributeError\u001b[0m                            Traceback (most recent call last)",
      "Input \u001b[0;32mIn [17]\u001b[0m, in \u001b[0;36m<cell line: 3>\u001b[0;34m()\u001b[0m\n\u001b[1;32m      1\u001b[0m mama \u001b[38;5;241m=\u001b[39m \u001b[38;5;28mopen\u001b[39m(path\u001b[38;5;241m+\u001b[39m\u001b[38;5;124m'\u001b[39m\u001b[38;5;124mconfigs/passa.txt\u001b[39m\u001b[38;5;124m'\u001b[39m,\u001b[38;5;124m'\u001b[39m\u001b[38;5;124mr\u001b[39m\u001b[38;5;124m'\u001b[39m)\n\u001b[1;32m      2\u001b[0m sama \u001b[38;5;241m=\u001b[39m mama\u001b[38;5;241m.\u001b[39mreadlines()\n\u001b[0;32m----> 3\u001b[0m pub,pri \u001b[38;5;241m=\u001b[39m \u001b[43mrsa\u001b[49m\u001b[38;5;241;43m.\u001b[39;49m\u001b[43mget\u001b[49m\u001b[38;5;241m.\u001b[39mfromstring()\n",
      "\u001b[0;31mAttributeError\u001b[0m: module 'rsa' has no attribute 'get'"
     ]
    }
   ],
   "source": [
    "mama = open(path+'configs/passa.txt','r')\n",
    "sama = mama.readlines()\n",
    "pub,pri = rsa.key."
   ]
  },
  {
   "cell_type": "code",
   "execution_count": 5,
   "metadata": {},
   "outputs": [
    {
     "name": "stdout",
     "output_type": "stream",
     "text": [
      "\n",
      "------*------\n",
      "\n",
      "['nikallowd\\n', 'Hem4@2003\\n', 'bccacbcd-b5de-4bf4-9ea7-9205a3c3faf1\\n', 'Om Shanthi_2 4\\n']\n"
     ]
    }
   ],
   "source": [
    "import pyAesCrypt as pya\n",
    "\n",
    "key = \"Helllllo123\"\n",
    "pya.encryptFile(\"/home/boom/Desktop/bdayw/configs/passa.txt\",\"/home/boom/Desktop/bdayw/configs/passa.txt.aes\",key)\n",
    "print(\"\\n------*------\\n\")\n",
    "pya.decryptFile(\"/home/boom/Desktop/bdayw/configs/passa.txt.aes\",\"/home/boom/Desktop/bdayw/configs/psa.txt\",key)\n",
    "mama = open(path+'configs/psa.txt','r')\n",
    "sama = mama.readlines()\n",
    "print(sama)"
   ]
  },
  {
   "cell_type": "code",
   "execution_count": 8,
   "metadata": {},
   "outputs": [
    {
     "name": "stdout",
     "output_type": "stream",
     "text": [
      ".\n"
     ]
    }
   ],
   "source": [
    "import os\n",
    "current_dir = os.path.curdir\n",
    "print(current_dir)"
   ]
  },
  {
   "cell_type": "code",
   "execution_count": 9,
   "metadata": {},
   "outputs": [],
   "source": [
    "temp =os.mkdir(current_dir+'/temp')"
   ]
  },
  {
   "cell_type": "code",
   "execution_count": 2,
   "metadata": {},
   "outputs": [],
   "source": [
    "import os\n",
    "with open('/home/boom/Desktop/bdayw/Code/python/ass.txt','w') as er:\n",
    "    er.writelines(['as\\n','hole'])"
   ]
  },
  {
   "cell_type": "code",
   "execution_count": null,
   "metadata": {},
   "outputs": [],
   "source": []
  }
 ],
 "metadata": {
  "interpreter": {
   "hash": "e7370f93d1d0cde622a1f8e1c04877d8463912d04d973331ad4851f04de6915a"
  },
  "kernelspec": {
   "display_name": "Python 3 (ipykernel)",
   "language": "python",
   "name": "python3"
  },
  "language_info": {
   "codemirror_mode": {
    "name": "ipython",
    "version": 3
   },
   "file_extension": ".py",
   "mimetype": "text/x-python",
   "name": "python",
   "nbconvert_exporter": "python",
   "pygments_lexer": "ipython3",
   "version": "3.10.4"
  }
 },
 "nbformat": 4,
 "nbformat_minor": 4
}
