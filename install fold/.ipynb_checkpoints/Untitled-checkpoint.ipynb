{
 "cells": [
  {
   "cell_type": "code",
   "execution_count": 1,
   "id": "6e64b60b-dca7-4038-a622-81cd779a96fa",
   "metadata": {},
   "outputs": [],
   "source": [
    "import os\n",
    "path = \"/home/boom/Desktop/test/bdayw\""
   ]
  },
  {
   "cell_type": "code",
   "execution_count": 2,
   "id": "9046fd53-ae27-4fe3-bd2d-6ccb52957f88",
   "metadata": {},
   "outputs": [],
   "source": [
    "with open(path+'/data/temp/passa.txt','w') as ksi:\n",
    "    ksi.writelines(['nikallowd\\n','Hem4@2003'])"
   ]
  },
  {
   "cell_type": "code",
   "execution_count": null,
   "id": "af818b62-a4c1-410b-a3bc-4fb76c169d1b",
   "metadata": {},
   "outputs": [],
   "source": []
  }
 ],
 "metadata": {
  "kernelspec": {
   "display_name": "Python 3 (ipykernel)",
   "language": "python",
   "name": "python3"
  },
  "language_info": {
   "codemirror_mode": {
    "name": "ipython",
    "version": 3
   },
   "file_extension": ".py",
   "mimetype": "text/x-python",
   "name": "python",
   "nbconvert_exporter": "python",
   "pygments_lexer": "ipython3",
   "version": "3.10.4"
  }
 },
 "nbformat": 4,
 "nbformat_minor": 5
}
